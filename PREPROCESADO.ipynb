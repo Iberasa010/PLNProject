{
 "cells": [
  {
   "cell_type": "code",
   "execution_count": 2,
   "id": "2fadc948-0805-4e1c-ae4b-74164c30381a",
   "metadata": {},
   "outputs": [],
   "source": [
    "import pandas as pd\n",
    "import re\n",
    "\n",
    "# Cargar el CSV\n",
    "ruta = r\"C:\\Users\\IÑIGO\\Desktop\\Universidad\\PLN\\DATASETEUSKERA\\articulosEval_with_ORES.csv\"\n",
    "ruta_salida = r\"C:\\Users\\IÑIGO\\Desktop\\Universidad\\PLN\\DATASETEUSKERA\\articulosTest_limpios_multi.csv\"\n",
    "\n",
    "df = pd.read_csv(ruta)\n",
    "\n",
    "df['contenido'] = df['contenido'].apply(clean_wikipedia_article)\n",
    "\n",
    "df.to_csv(ruta_salida, index=False)"
   ]
  },
  {
   "cell_type": "code",
   "execution_count": 1,
   "id": "cab4f90a-956a-441a-be5c-75d8de618ca0",
   "metadata": {},
   "outputs": [],
   "source": [
    "def clean_wikipedia_article(text):\n",
    "    text = re.sub(r'<[^>]+>', '', text)\n",
    "    text = re.sub(r'<ref>.*?</ref>', '', text, flags=re.DOTALL)\n",
    "    text = re.sub(r'http\\S+', '', text)  \n",
    "    text = re.sub(r'\\{\\{.*?\\}\\}', '', text, flags=re.DOTALL)\n",
    "    text = re.sub(r'\\[\\[.*?\\|', '', text)  \n",
    "    text = re.sub(r'\\[\\[.*?\\]\\]', '', text) \n",
    "    text = re.sub(r'\\[.*?\\]', '', text)  \n",
    "    text = re.sub(r'[^\\w\\s.,!?]', '', text)  \n",
    "    text = re.sub(r'\\n+', ' ', text).strip()  \n",
    "    text = re.sub(r'\\s{2,}', ' ', text)  \n",
    "    \n",
    "    return text"
   ]
  },
  {
   "cell_type": "code",
   "execution_count": 18,
   "id": "0374d84b-7bf6-406d-a6b8-bca64ad7596a",
   "metadata": {},
   "outputs": [
    {
     "name": "stdout",
     "output_type": "stream",
     "text": [
      "Dataset combinado guardado en: C:\\Users\\IÑIGO\\Desktop\\Universidad\\PLN\\mulData.csv (sin encabezados)\n",
      "Dataset combinado guardado en: C:\\Users\\IÑIGO\\Desktop\\Universidad\\PLN\\mulData.csv\n"
     ]
    }
   ],
   "source": [
    "import pandas as pd\n",
    "\n",
    "ruta_dataset1 = r\"C:\\Users\\IÑIGO\\Desktop\\Universidad\\PLN\\wiki16k\\dataset16kdef.csv\"\n",
    "ruta_dataset2 = r\"C:\\Users\\IÑIGO\\Desktop\\Universidad\\PLN\\DATASETEUSKERA\\articulosTrain_limpios.csv\"\n",
    "\n",
    "df1 = pd.read_csv(ruta_dataset1, header=None)  \n",
    "df2 = pd.read_csv(ruta_dataset2) \n",
    "\n",
    "df1.columns = [\"Contenido\", \"Nota\"]\n",
    "\n",
    "df1[\"Nota\"] = df1[\"Nota\"].str.lower()\n",
    "df2[\"ORES_Score\"] = df2[\"ORES_Score\"].str.lower()\n",
    "\n",
    "df2_ajustado = df2.rename(columns={\"contenido\": \"Contenido\", \"ORES_Score\": \"Nota\"})\n",
    "\n",
    "df2_ajustado = df2_ajustado[[\"Contenido\", \"Nota\"]]\n",
    "\n",
    "df_combinado = pd.concat([df1, df2_ajustado], ignore_index=True)\n",
    "ruta_salida = r\"C:\\Users\\IÑIGO\\Desktop\\Universidad\\PLN\\mulData.csv\"\n",
    "df_combinado.to_csv(ruta_salida, index=False, header=False)\n",
    "\n",
    "print(f\"Dataset combinado guardado en: {ruta_salida} (sin encabezados)\")\n",
    "\n",
    "print(f\"Dataset combinado guardado en: {ruta_salida}\")\n",
    "\n",
    "\n",
    "\n",
    "\n"
   ]
  }
 ],
 "metadata": {
  "kernelspec": {
   "display_name": "Python 3 (ipykernel)",
   "language": "python",
   "name": "python3"
  },
  "language_info": {
   "codemirror_mode": {
    "name": "ipython",
    "version": 3
   },
   "file_extension": ".py",
   "mimetype": "text/x-python",
   "name": "python",
   "nbconvert_exporter": "python",
   "pygments_lexer": "ipython3",
   "version": "3.12.7"
  }
 },
 "nbformat": 4,
 "nbformat_minor": 5
}
