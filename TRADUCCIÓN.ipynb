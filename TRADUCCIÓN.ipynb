{
 "cells": [
  {
   "cell_type": "code",
   "execution_count": 8,
   "id": "0e821eef-ada2-4924-85fd-cd66286bc492",
   "metadata": {},
   "outputs": [
    {
     "name": "stdout",
     "output_type": "stream",
     "text": [
      "Archivo traducido guardado en: C:\\Users\\IÑIGO\\Desktop\\Universidad\\PLN\\DATASETEUSKERA\\articulos_test_traducidos.csv\n"
     ]
    }
   ],
   "source": [
    "import pandas as pd\n",
    "from deep_translator import GoogleTranslator\n",
    "\n",
    "file_path = \"C:\\\\Users\\\\IÑIGO\\\\Desktop\\\\Universidad\\\\PLN\\\\DATASETEUSKERA\\\\articulosTest_limpios_multi.csv\"  \n",
    "output_path = \"C:\\\\Users\\\\IÑIGO\\\\Desktop\\\\Universidad\\\\PLN\\\\DATASETEUSKERA\\\\articulos_test_traducidos.csv\"  \n",
    "\n",
    "df = pd.read_csv(file_path)\n",
    "\n",
    "def translate_text(text):\n",
    "    try:\n",
    "        # Usar GoogleTranslator para la traducción\n",
    "        translated_text = GoogleTranslator(source='eu', target='en').translate(text)\n",
    "        return translated_text\n",
    "    except Exception as e:\n",
    "        return f\"Translation error: {e}\"\n",
    "\n",
    "df['contenido'] = df['contenido'].apply(translate_text)\n",
    "\n",
    "df[['contenido']].to_csv(output_path, index=False)\n",
    "\n",
    "print(f\"Archivo traducido guardado en: {output_path}\")\n",
    "\n",
    "\n",
    "\n"
   ]
  },
  {
   "cell_type": "code",
   "execution_count": 7,
   "id": "3b678c96-0e3b-4e8f-8d7d-ad51002554e3",
   "metadata": {},
   "outputs": [
    {
     "name": "stdout",
     "output_type": "stream",
     "text": [
      "Collecting deep-translator\n",
      "  Downloading deep_translator-1.11.4-py3-none-any.whl.metadata (30 kB)\n",
      "Requirement already satisfied: beautifulsoup4<5.0.0,>=4.9.1 in c:\\users\\iñigo\\anaconda3\\lib\\site-packages (from deep-translator) (4.12.3)\n",
      "Requirement already satisfied: requests<3.0.0,>=2.23.0 in c:\\users\\iñigo\\anaconda3\\lib\\site-packages (from deep-translator) (2.32.3)\n",
      "Requirement already satisfied: soupsieve>1.2 in c:\\users\\iñigo\\anaconda3\\lib\\site-packages (from beautifulsoup4<5.0.0,>=4.9.1->deep-translator) (2.5)\n",
      "Requirement already satisfied: charset-normalizer<4,>=2 in c:\\users\\iñigo\\anaconda3\\lib\\site-packages (from requests<3.0.0,>=2.23.0->deep-translator) (3.3.2)\n",
      "Requirement already satisfied: idna<4,>=2.5 in c:\\users\\iñigo\\anaconda3\\lib\\site-packages (from requests<3.0.0,>=2.23.0->deep-translator) (3.7)\n",
      "Requirement already satisfied: urllib3<3,>=1.21.1 in c:\\users\\iñigo\\anaconda3\\lib\\site-packages (from requests<3.0.0,>=2.23.0->deep-translator) (2.2.3)\n",
      "Requirement already satisfied: certifi>=2017.4.17 in c:\\users\\iñigo\\anaconda3\\lib\\site-packages (from requests<3.0.0,>=2.23.0->deep-translator) (2024.8.30)\n",
      "Downloading deep_translator-1.11.4-py3-none-any.whl (42 kB)\n",
      "Installing collected packages: deep-translator\n",
      "Successfully installed deep-translator-1.11.4\n"
     ]
    }
   ],
   "source": [
    "!pip install deep-translator\n"
   ]
  }
 ],
 "metadata": {
  "kernelspec": {
   "display_name": "Python 3 (ipykernel)",
   "language": "python",
   "name": "python3"
  },
  "language_info": {
   "codemirror_mode": {
    "name": "ipython",
    "version": 3
   },
   "file_extension": ".py",
   "mimetype": "text/x-python",
   "name": "python",
   "nbconvert_exporter": "python",
   "pygments_lexer": "ipython3",
   "version": "3.12.7"
  }
 },
 "nbformat": 4,
 "nbformat_minor": 5
}
